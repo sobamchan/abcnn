{
 "cells": [
  {
   "cell_type": "code",
   "execution_count": 3,
   "metadata": {
    "collapsed": true,
    "deletable": true,
    "editable": true
   },
   "outputs": [],
   "source": [
    "import pandas as pd"
   ]
  },
  {
   "cell_type": "code",
   "execution_count": 11,
   "metadata": {
    "collapsed": true,
    "deletable": true,
    "editable": true
   },
   "outputs": [],
   "source": [
    "class Quora:\n",
    "\n",
    "    def __init__(self, fdata='./datas/train.csv', test_ratio=.2):\n",
    "        self.fdata = fdata\n",
    "        self.test_ratio = test_ratio\n",
    "        self.train_x = None\n",
    "        self.train_t = None\n",
    "        self.test_x = None\n",
    "        self.test_t = None\n",
    "\n",
    "    def load(self):\n",
    "        '''\n",
    "        x = (sen1, sen2)\n",
    "        y = 0 or 1\n",
    "        '''\n",
    "        data = pd.read_csv(self.fdata)\n",
    "        print(data[(data.question1)==None])\n",
    "        test_ratio = self.test_ratio\n",
    "        duplicated = [tuple(x) for x in data[(data.is_duplicate)==1][['question1', 'question2']].values]\n",
    "        not_duplicated = [tuple(x) for x in data[(data.is_duplicate)==0][['question1', 'question2']].values]\n",
    "        \n",
    "        train_idx_dup = int(len(duplicated)*(1-test_ratio))\n",
    "        train_idx_notdup = int(len(not_duplicated)*(1-test_ratio))\n",
    "        \n",
    "        self.train_x = duplicated[:train_idx_dup] + not_duplicated[:train_idx_notdup]\n",
    "        self.train_t = [1] * len(duplicated[:train_idx_dup]) + [0] * len(not_duplicated[:train_idx_notdup])\n",
    "        \n",
    "        self.test_x = duplicated[train_idx_dup:] + not_duplicated[train_idx_notdup:]\n",
    "        self.test_t = [1] * len(duplicated[train_idx_dup:]) + [0] * len(not_duplicated[train_idx_notdup:])\n",
    "        \n",
    "    def get(self):\n",
    "        if self.train_x is None:\n",
    "            self.load()\n",
    "        return (self.train_x, self.train_t, self.test_x, self.test_t)"
   ]
  },
  {
   "cell_type": "code",
   "execution_count": 12,
   "metadata": {
    "collapsed": false,
    "deletable": true,
    "editable": true
   },
   "outputs": [
    {
     "name": "stdout",
     "output_type": "stream",
     "text": [
      "Empty DataFrame\n",
      "Columns: [id, qid1, qid2, question1, question2, is_duplicate]\n",
      "Index: []\n"
     ]
    }
   ],
   "source": [
    "q = Quora()\n",
    "tx, tt, vx, vt = q.get()"
   ]
  },
  {
   "cell_type": "code",
   "execution_count": 6,
   "metadata": {
    "collapsed": false,
    "deletable": true,
    "editable": true
   },
   "outputs": [
    {
     "data": {
      "text/plain": [
       "('Astrology: I am a Capricorn Sun Cap moon and cap rising...what does that say about me?',\n",
       " \"I'm a triple Capricorn (Sun, Moon and ascendant in Capricorn) What does this say about me?\")"
      ]
     },
     "execution_count": 6,
     "metadata": {},
     "output_type": "execute_result"
    }
   ],
   "source": [
    "tx[0]"
   ]
  },
  {
   "cell_type": "code",
   "execution_count": null,
   "metadata": {
    "collapsed": true,
    "deletable": true,
    "editable": true
   },
   "outputs": [],
   "source": []
  }
 ],
 "metadata": {
  "kernelspec": {
   "display_name": "Python 3",
   "language": "python",
   "name": "python3"
  },
  "language_info": {
   "codemirror_mode": {
    "name": "ipython",
    "version": 3
   },
   "file_extension": ".py",
   "mimetype": "text/x-python",
   "name": "python",
   "nbconvert_exporter": "python",
   "pygments_lexer": "ipython3",
   "version": "3.5.2"
  }
 },
 "nbformat": 4,
 "nbformat_minor": 2
}
